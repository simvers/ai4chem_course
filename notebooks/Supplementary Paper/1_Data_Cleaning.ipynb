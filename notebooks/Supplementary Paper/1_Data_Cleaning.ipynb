{
 "cells": [
  {
   "cell_type": "code",
   "execution_count": 1,
   "id": "initial_id",
   "metadata": {
    "collapsed": true,
    "ExecuteTime": {
     "end_time": "2024-11-05T16:16:01.129863300Z",
     "start_time": "2024-11-05T16:15:57.496589600Z"
    }
   },
   "outputs": [],
   "source": [
    "import pandas as pd\n",
    "import numpy as np\n",
    "import sklearn as sk\n",
    "import matplotlib.pyplot as plt"
   ]
  },
  {
   "cell_type": "code",
   "outputs": [
    {
     "data": {
      "text/plain": "   Catalyst Nr  Nr of publication Cation 1  Cation 1 mol% Cation 2  \\\n0            1                  1       Mn            9.2      NaN   \n1            2                  1       Cd            4.7      NaN   \n2            3                  1       Sn            4.5      NaN   \n3            4                  1       Ti           10.4      NaN   \n4            5                  1       Pt            2.8      NaN   \n\n   Cation 2 mol% Cation 3  Cation 3 mol% Cation 4  Cation 4 mol%  ...  \\\n0            NaN      NaN            NaN      NaN            NaN  ...   \n1            NaN      NaN            NaN      NaN            NaN  ...   \n2            NaN      NaN            NaN      NaN            NaN  ...   \n3            NaN      NaN            NaN      NaN            NaN  ...   \n4            NaN      NaN            NaN      NaN            NaN  ...   \n\n  p(CH4)/p(O2)  p total, bar Contact time, s  X(O2), % X(CH4), % S(COx), %  \\\n0     4.761905         1.013            0.04       NaN      11.0       NaN   \n1     4.761905         1.013            0.04       NaN      10.0       NaN   \n2     4.761905         1.013            0.04       NaN       8.4       NaN   \n3     4.761905         1.013            0.04       NaN       6.8       NaN   \n4     4.761905         1.013            0.04       NaN       8.0       NaN   \n\n   S(C2=), % S(C2-), %   S(C2), % Y(C2), %  \n0        NaN       NaN  45.500000   5.0050  \n1        NaN       NaN  40.000000   4.0000  \n2        NaN       NaN   4.800000   0.4032  \n3        NaN       NaN  44.099998   2.9988  \n4        NaN       NaN   1.300000   0.1040  \n\n[5 rows x 33 columns]",
      "text/html": "<div>\n<style scoped>\n    .dataframe tbody tr th:only-of-type {\n        vertical-align: middle;\n    }\n\n    .dataframe tbody tr th {\n        vertical-align: top;\n    }\n\n    .dataframe thead th {\n        text-align: right;\n    }\n</style>\n<table border=\"1\" class=\"dataframe\">\n  <thead>\n    <tr style=\"text-align: right;\">\n      <th></th>\n      <th>Catalyst Nr</th>\n      <th>Nr of publication</th>\n      <th>Cation 1</th>\n      <th>Cation 1 mol%</th>\n      <th>Cation 2</th>\n      <th>Cation 2 mol%</th>\n      <th>Cation 3</th>\n      <th>Cation 3 mol%</th>\n      <th>Cation 4</th>\n      <th>Cation 4 mol%</th>\n      <th>...</th>\n      <th>p(CH4)/p(O2)</th>\n      <th>p total, bar</th>\n      <th>Contact time, s</th>\n      <th>X(O2), %</th>\n      <th>X(CH4), %</th>\n      <th>S(COx), %</th>\n      <th>S(C2=), %</th>\n      <th>S(C2-), %</th>\n      <th>S(C2), %</th>\n      <th>Y(C2), %</th>\n    </tr>\n  </thead>\n  <tbody>\n    <tr>\n      <th>0</th>\n      <td>1</td>\n      <td>1</td>\n      <td>Mn</td>\n      <td>9.2</td>\n      <td>NaN</td>\n      <td>NaN</td>\n      <td>NaN</td>\n      <td>NaN</td>\n      <td>NaN</td>\n      <td>NaN</td>\n      <td>...</td>\n      <td>4.761905</td>\n      <td>1.013</td>\n      <td>0.04</td>\n      <td>NaN</td>\n      <td>11.0</td>\n      <td>NaN</td>\n      <td>NaN</td>\n      <td>NaN</td>\n      <td>45.500000</td>\n      <td>5.0050</td>\n    </tr>\n    <tr>\n      <th>1</th>\n      <td>2</td>\n      <td>1</td>\n      <td>Cd</td>\n      <td>4.7</td>\n      <td>NaN</td>\n      <td>NaN</td>\n      <td>NaN</td>\n      <td>NaN</td>\n      <td>NaN</td>\n      <td>NaN</td>\n      <td>...</td>\n      <td>4.761905</td>\n      <td>1.013</td>\n      <td>0.04</td>\n      <td>NaN</td>\n      <td>10.0</td>\n      <td>NaN</td>\n      <td>NaN</td>\n      <td>NaN</td>\n      <td>40.000000</td>\n      <td>4.0000</td>\n    </tr>\n    <tr>\n      <th>2</th>\n      <td>3</td>\n      <td>1</td>\n      <td>Sn</td>\n      <td>4.5</td>\n      <td>NaN</td>\n      <td>NaN</td>\n      <td>NaN</td>\n      <td>NaN</td>\n      <td>NaN</td>\n      <td>NaN</td>\n      <td>...</td>\n      <td>4.761905</td>\n      <td>1.013</td>\n      <td>0.04</td>\n      <td>NaN</td>\n      <td>8.4</td>\n      <td>NaN</td>\n      <td>NaN</td>\n      <td>NaN</td>\n      <td>4.800000</td>\n      <td>0.4032</td>\n    </tr>\n    <tr>\n      <th>3</th>\n      <td>4</td>\n      <td>1</td>\n      <td>Ti</td>\n      <td>10.4</td>\n      <td>NaN</td>\n      <td>NaN</td>\n      <td>NaN</td>\n      <td>NaN</td>\n      <td>NaN</td>\n      <td>NaN</td>\n      <td>...</td>\n      <td>4.761905</td>\n      <td>1.013</td>\n      <td>0.04</td>\n      <td>NaN</td>\n      <td>6.8</td>\n      <td>NaN</td>\n      <td>NaN</td>\n      <td>NaN</td>\n      <td>44.099998</td>\n      <td>2.9988</td>\n    </tr>\n    <tr>\n      <th>4</th>\n      <td>5</td>\n      <td>1</td>\n      <td>Pt</td>\n      <td>2.8</td>\n      <td>NaN</td>\n      <td>NaN</td>\n      <td>NaN</td>\n      <td>NaN</td>\n      <td>NaN</td>\n      <td>NaN</td>\n      <td>...</td>\n      <td>4.761905</td>\n      <td>1.013</td>\n      <td>0.04</td>\n      <td>NaN</td>\n      <td>8.0</td>\n      <td>NaN</td>\n      <td>NaN</td>\n      <td>NaN</td>\n      <td>1.300000</td>\n      <td>0.1040</td>\n    </tr>\n  </tbody>\n</table>\n<p>5 rows × 33 columns</p>\n</div>"
     },
     "execution_count": 3,
     "metadata": {},
     "output_type": "execute_result"
    }
   ],
   "source": [
    "# Load data\n",
    "raw_data = pd.read_excel('data/41467_2019_8325_MOESM3_ESM.xls', sheet_name=1)\n",
    "raw_data.head()"
   ],
   "metadata": {
    "collapsed": false,
    "ExecuteTime": {
     "end_time": "2024-11-05T16:19:35.615111800Z",
     "start_time": "2024-11-05T16:19:35.526865400Z"
    }
   },
   "id": "ce92fbd3480cb467",
   "execution_count": 3
  },
  {
   "cell_type": "code",
   "outputs": [
    {
     "name": "stdout",
     "output_type": "stream",
     "text": [
      "Cation 1  Ag  Al  Au  Ba  Be  Bi  Ca   Cd  Ce  Co  ...  Tb  Th    Ti  Tm   V  \\\n",
      "0        NaN NaN NaN NaN NaN NaN NaN  NaN NaN NaN  ... NaN NaN   NaN NaN NaN   \n",
      "1        NaN NaN NaN NaN NaN NaN NaN  4.7 NaN NaN  ... NaN NaN   NaN NaN NaN   \n",
      "2        NaN NaN NaN NaN NaN NaN NaN  NaN NaN NaN  ... NaN NaN   NaN NaN NaN   \n",
      "3        NaN NaN NaN NaN NaN NaN NaN  NaN NaN NaN  ... NaN NaN  10.4 NaN NaN   \n",
      "4        NaN NaN NaN NaN NaN NaN NaN  NaN NaN NaN  ... NaN NaN   NaN NaN NaN   \n",
      "\n",
      "Cation 1   W   Y  Yb  Zn  Zr  \n",
      "0        NaN NaN NaN NaN NaN  \n",
      "1        NaN NaN NaN NaN NaN  \n",
      "2        NaN NaN NaN NaN NaN  \n",
      "3        NaN NaN NaN NaN NaN  \n",
      "4        NaN NaN NaN NaN NaN  \n",
      "\n",
      "[5 rows x 56 columns]\n",
      "Cation 2  NaN  Ag  Al   B  Ba  Be  Bi  Ca  Cd  Ce  ...  Tb  Th  Ti  Tm   V  \\\n",
      "0         NaN NaN NaN NaN NaN NaN NaN NaN NaN NaN  ... NaN NaN NaN NaN NaN   \n",
      "1         NaN NaN NaN NaN NaN NaN NaN NaN NaN NaN  ... NaN NaN NaN NaN NaN   \n",
      "2         NaN NaN NaN NaN NaN NaN NaN NaN NaN NaN  ... NaN NaN NaN NaN NaN   \n",
      "3         NaN NaN NaN NaN NaN NaN NaN NaN NaN NaN  ... NaN NaN NaN NaN NaN   \n",
      "4         NaN NaN NaN NaN NaN NaN NaN NaN NaN NaN  ... NaN NaN NaN NaN NaN   \n",
      "\n",
      "Cation 2   W   Y  Yb  Zn  Zr  \n",
      "0        NaN NaN NaN NaN NaN  \n",
      "1        NaN NaN NaN NaN NaN  \n",
      "2        NaN NaN NaN NaN NaN  \n",
      "3        NaN NaN NaN NaN NaN  \n",
      "4        NaN NaN NaN NaN NaN  \n",
      "\n",
      "[5 rows x 52 columns]\n",
      "Cation 3  NaN  Al  Ba  Bi  Ca  Ce  Co  Cu  Eu  Fe  ...  Tb  Te  Th  Ti   V  \\\n",
      "0         NaN NaN NaN NaN NaN NaN NaN NaN NaN NaN  ... NaN NaN NaN NaN NaN   \n",
      "1         NaN NaN NaN NaN NaN NaN NaN NaN NaN NaN  ... NaN NaN NaN NaN NaN   \n",
      "2         NaN NaN NaN NaN NaN NaN NaN NaN NaN NaN  ... NaN NaN NaN NaN NaN   \n",
      "3         NaN NaN NaN NaN NaN NaN NaN NaN NaN NaN  ... NaN NaN NaN NaN NaN   \n",
      "4         NaN NaN NaN NaN NaN NaN NaN NaN NaN NaN  ... NaN NaN NaN NaN NaN   \n",
      "\n",
      "Cation 3   W   Y  Yb  Zn  Zr  \n",
      "0        NaN NaN NaN NaN NaN  \n",
      "1        NaN NaN NaN NaN NaN  \n",
      "2        NaN NaN NaN NaN NaN  \n",
      "3        NaN NaN NaN NaN NaN  \n",
      "4        NaN NaN NaN NaN NaN  \n",
      "\n",
      "[5 rows x 39 columns]\n",
      "Cation 4  NaN   B  Ba  Ca  Ce  Co   K  La  Li  Mg  ...  Pr  Si  Sm  Sr  Tb  \\\n",
      "0         NaN NaN NaN NaN NaN NaN NaN NaN NaN NaN  ... NaN NaN NaN NaN NaN   \n",
      "1         NaN NaN NaN NaN NaN NaN NaN NaN NaN NaN  ... NaN NaN NaN NaN NaN   \n",
      "2         NaN NaN NaN NaN NaN NaN NaN NaN NaN NaN  ... NaN NaN NaN NaN NaN   \n",
      "3         NaN NaN NaN NaN NaN NaN NaN NaN NaN NaN  ... NaN NaN NaN NaN NaN   \n",
      "4         NaN NaN NaN NaN NaN NaN NaN NaN NaN NaN  ... NaN NaN NaN NaN NaN   \n",
      "\n",
      "Cation 4  Ti   W  Yb  Zn  Zr  \n",
      "0        NaN NaN NaN NaN NaN  \n",
      "1        NaN NaN NaN NaN NaN  \n",
      "2        NaN NaN NaN NaN NaN  \n",
      "3        NaN NaN NaN NaN NaN  \n",
      "4        NaN NaN NaN NaN NaN  \n",
      "\n",
      "[5 rows x 23 columns]\n",
      "Anion 1  NaN   B  Br   C  Cl   F   I   P   S\n",
      "0        NaN NaN NaN NaN NaN NaN NaN NaN NaN\n",
      "1        NaN NaN NaN NaN NaN NaN NaN NaN NaN\n",
      "2        NaN NaN NaN NaN NaN NaN NaN NaN NaN\n",
      "3        NaN NaN NaN NaN NaN NaN NaN NaN NaN\n",
      "4        NaN NaN NaN NaN NaN NaN NaN NaN NaN\n",
      "Anion 2  NaN   C  Cl   N   P\n",
      "0        NaN NaN NaN NaN NaN\n",
      "1        NaN NaN NaN NaN NaN\n",
      "2        NaN NaN NaN NaN NaN\n",
      "3        NaN NaN NaN NaN NaN\n",
      "4        NaN NaN NaN NaN NaN\n",
      "Support 1  NaN         Al  Ca  Ce  Co  Dy  La  Mg  Nd  Pr  Si  Sm  Tb  Ti   Y  \\\n",
      "0          NaN  90.800003 NaN NaN NaN NaN NaN NaN NaN NaN NaN NaN NaN NaN NaN   \n",
      "1          NaN  95.300003 NaN NaN NaN NaN NaN NaN NaN NaN NaN NaN NaN NaN NaN   \n",
      "2          NaN  95.500000 NaN NaN NaN NaN NaN NaN NaN NaN NaN NaN NaN NaN NaN   \n",
      "3          NaN  89.599998 NaN NaN NaN NaN NaN NaN NaN NaN NaN NaN NaN NaN NaN   \n",
      "4          NaN  97.199997 NaN NaN NaN NaN NaN NaN NaN NaN NaN NaN NaN NaN NaN   \n",
      "\n",
      "Support 1  Yb  Zn  Zr  \n",
      "0         NaN NaN NaN  \n",
      "1         NaN NaN NaN  \n",
      "2         NaN NaN NaN  \n",
      "3         NaN NaN NaN  \n",
      "4         NaN NaN NaN  \n",
      "Support 2  NaN  Al   C  Si\n",
      "0          NaN NaN NaN NaN\n",
      "1          NaN NaN NaN NaN\n",
      "2          NaN NaN NaN NaN\n",
      "3          NaN NaN NaN NaN\n",
      "4          NaN NaN NaN NaN\n"
     ]
    }
   ],
   "source": [
    "# Pivoted tables\n",
    "pivot_columns = ['Cation 1', 'Cation 2', 'Cation 3', 'Cation 4', 'Anion 1', 'Anion 2', 'Support 1', 'Support 2']\n",
    "pivot_values = ['Cation 1 mol%', 'Cation 2 mol%', 'Cation 3 mol%', 'Cation 4 mol%', \n",
    "                'Anion 1 mol%', 'Anion 2 mol%', 'Support 1 mol%', 'Support 2 mol%']\n",
    "pivot_tables = [raw_data.pivot(columns=column_i, values=value_i) for column_i, value_i in zip(pivot_columns, pivot_values)]\n",
    "for list in pivot_tables:\n",
    "    print(list.head())"
   ],
   "metadata": {
    "collapsed": false,
    "ExecuteTime": {
     "end_time": "2024-11-05T16:46:59.578076400Z",
     "start_time": "2024-11-05T16:46:59.533696500Z"
    }
   },
   "id": "4d85f1d03d8f67ba",
   "execution_count": 11
  },
  {
   "cell_type": "code",
   "outputs": [
    {
     "data": {
      "text/plain": "    Ag     Al   Au    B   Ba   Be   Bi   Br    C   Ca  ...   Te   Th     Ti  \\\n0  0.0  0.908  0.0  0.0  0.0  0.0  0.0  0.0  0.0  0.0  ...  0.0  0.0  0.000   \n1  0.0  0.953  0.0  0.0  0.0  0.0  0.0  0.0  0.0  0.0  ...  0.0  0.0  0.000   \n2  0.0  0.955  0.0  0.0  0.0  0.0  0.0  0.0  0.0  0.0  ...  0.0  0.0  0.000   \n3  0.0  0.896  0.0  0.0  0.0  0.0  0.0  0.0  0.0  0.0  ...  0.0  0.0  0.104   \n4  0.0  0.972  0.0  0.0  0.0  0.0  0.0  0.0  0.0  0.0  ...  0.0  0.0  0.000   \n\n    Tm    V    W    Y   Yb   Zn   Zr  \n0  0.0  0.0  0.0  0.0  0.0  0.0  0.0  \n1  0.0  0.0  0.0  0.0  0.0  0.0  0.0  \n2  0.0  0.0  0.0  0.0  0.0  0.0  0.0  \n3  0.0  0.0  0.0  0.0  0.0  0.0  0.0  \n4  0.0  0.0  0.0  0.0  0.0  0.0  0.0  \n\n[5 rows x 68 columns]",
      "text/html": "<div>\n<style scoped>\n    .dataframe tbody tr th:only-of-type {\n        vertical-align: middle;\n    }\n\n    .dataframe tbody tr th {\n        vertical-align: top;\n    }\n\n    .dataframe thead th {\n        text-align: right;\n    }\n</style>\n<table border=\"1\" class=\"dataframe\">\n  <thead>\n    <tr style=\"text-align: right;\">\n      <th></th>\n      <th>Ag</th>\n      <th>Al</th>\n      <th>Au</th>\n      <th>B</th>\n      <th>Ba</th>\n      <th>Be</th>\n      <th>Bi</th>\n      <th>Br</th>\n      <th>C</th>\n      <th>Ca</th>\n      <th>...</th>\n      <th>Te</th>\n      <th>Th</th>\n      <th>Ti</th>\n      <th>Tm</th>\n      <th>V</th>\n      <th>W</th>\n      <th>Y</th>\n      <th>Yb</th>\n      <th>Zn</th>\n      <th>Zr</th>\n    </tr>\n  </thead>\n  <tbody>\n    <tr>\n      <th>0</th>\n      <td>0.0</td>\n      <td>0.908</td>\n      <td>0.0</td>\n      <td>0.0</td>\n      <td>0.0</td>\n      <td>0.0</td>\n      <td>0.0</td>\n      <td>0.0</td>\n      <td>0.0</td>\n      <td>0.0</td>\n      <td>...</td>\n      <td>0.0</td>\n      <td>0.0</td>\n      <td>0.000</td>\n      <td>0.0</td>\n      <td>0.0</td>\n      <td>0.0</td>\n      <td>0.0</td>\n      <td>0.0</td>\n      <td>0.0</td>\n      <td>0.0</td>\n    </tr>\n    <tr>\n      <th>1</th>\n      <td>0.0</td>\n      <td>0.953</td>\n      <td>0.0</td>\n      <td>0.0</td>\n      <td>0.0</td>\n      <td>0.0</td>\n      <td>0.0</td>\n      <td>0.0</td>\n      <td>0.0</td>\n      <td>0.0</td>\n      <td>...</td>\n      <td>0.0</td>\n      <td>0.0</td>\n      <td>0.000</td>\n      <td>0.0</td>\n      <td>0.0</td>\n      <td>0.0</td>\n      <td>0.0</td>\n      <td>0.0</td>\n      <td>0.0</td>\n      <td>0.0</td>\n    </tr>\n    <tr>\n      <th>2</th>\n      <td>0.0</td>\n      <td>0.955</td>\n      <td>0.0</td>\n      <td>0.0</td>\n      <td>0.0</td>\n      <td>0.0</td>\n      <td>0.0</td>\n      <td>0.0</td>\n      <td>0.0</td>\n      <td>0.0</td>\n      <td>...</td>\n      <td>0.0</td>\n      <td>0.0</td>\n      <td>0.000</td>\n      <td>0.0</td>\n      <td>0.0</td>\n      <td>0.0</td>\n      <td>0.0</td>\n      <td>0.0</td>\n      <td>0.0</td>\n      <td>0.0</td>\n    </tr>\n    <tr>\n      <th>3</th>\n      <td>0.0</td>\n      <td>0.896</td>\n      <td>0.0</td>\n      <td>0.0</td>\n      <td>0.0</td>\n      <td>0.0</td>\n      <td>0.0</td>\n      <td>0.0</td>\n      <td>0.0</td>\n      <td>0.0</td>\n      <td>...</td>\n      <td>0.0</td>\n      <td>0.0</td>\n      <td>0.104</td>\n      <td>0.0</td>\n      <td>0.0</td>\n      <td>0.0</td>\n      <td>0.0</td>\n      <td>0.0</td>\n      <td>0.0</td>\n      <td>0.0</td>\n    </tr>\n    <tr>\n      <th>4</th>\n      <td>0.0</td>\n      <td>0.972</td>\n      <td>0.0</td>\n      <td>0.0</td>\n      <td>0.0</td>\n      <td>0.0</td>\n      <td>0.0</td>\n      <td>0.0</td>\n      <td>0.0</td>\n      <td>0.0</td>\n      <td>...</td>\n      <td>0.0</td>\n      <td>0.0</td>\n      <td>0.000</td>\n      <td>0.0</td>\n      <td>0.0</td>\n      <td>0.0</td>\n      <td>0.0</td>\n      <td>0.0</td>\n      <td>0.0</td>\n      <td>0.0</td>\n    </tr>\n  </tbody>\n</table>\n<p>5 rows × 68 columns</p>\n</div>"
     },
     "execution_count": 17,
     "metadata": {},
     "output_type": "execute_result"
    }
   ],
   "source": [
    "# Combine and calculate composition\n",
    "concat_pivot_tables = pd.concat(pivot_tables, axis=1, sort=True)  # Concat all pivot tables into table with duplicate columns\n",
    "composition = concat_pivot_tables.groupby(level=0, axis=1).sum()/100  # Groupby columns and add composition\n",
    "composition.head()"
   ],
   "metadata": {
    "collapsed": false,
    "ExecuteTime": {
     "end_time": "2024-11-05T16:54:14.932695200Z",
     "start_time": "2024-11-05T16:54:14.907592900Z"
    }
   },
   "id": "9603948ce6fa1416",
   "execution_count": 17
  },
  {
   "cell_type": "code",
   "outputs": [
    {
     "data": {
      "text/plain": "   Nr of publication   Ag     Al   Au    B   Ba   Be   Bi   Br    C  ...  \\\n0                  1  0.0  0.908  0.0  0.0  0.0  0.0  0.0  0.0  0.0  ...   \n1                  1  0.0  0.953  0.0  0.0  0.0  0.0  0.0  0.0  0.0  ...   \n2                  1  0.0  0.955  0.0  0.0  0.0  0.0  0.0  0.0  0.0  ...   \n3                  1  0.0  0.896  0.0  0.0  0.0  0.0  0.0  0.0  0.0  ...   \n4                  1  0.0  0.972  0.0  0.0  0.0  0.0  0.0  0.0  0.0  ...   \n\n   p(CH4)/p(O2)  p total, bar  Contact time, s  X(O2), %  X(CH4), %  \\\n0      4.761905         1.013             0.04       NaN       11.0   \n1      4.761905         1.013             0.04       NaN       10.0   \n2      4.761905         1.013             0.04       NaN        8.4   \n3      4.761905         1.013             0.04       NaN        6.8   \n4      4.761905         1.013             0.04       NaN        8.0   \n\n   S(COx), %  S(C2=), %  S(C2-), %   S(C2), %  Y(C2), %  \n0        NaN        NaN        NaN  45.500000    5.0050  \n1        NaN        NaN        NaN  40.000000    4.0000  \n2        NaN        NaN        NaN   4.800000    0.4032  \n3        NaN        NaN        NaN  44.099998    2.9988  \n4        NaN        NaN        NaN   1.300000    0.1040  \n\n[5 rows x 83 columns]",
      "text/html": "<div>\n<style scoped>\n    .dataframe tbody tr th:only-of-type {\n        vertical-align: middle;\n    }\n\n    .dataframe tbody tr th {\n        vertical-align: top;\n    }\n\n    .dataframe thead th {\n        text-align: right;\n    }\n</style>\n<table border=\"1\" class=\"dataframe\">\n  <thead>\n    <tr style=\"text-align: right;\">\n      <th></th>\n      <th>Nr of publication</th>\n      <th>Ag</th>\n      <th>Al</th>\n      <th>Au</th>\n      <th>B</th>\n      <th>Ba</th>\n      <th>Be</th>\n      <th>Bi</th>\n      <th>Br</th>\n      <th>C</th>\n      <th>...</th>\n      <th>p(CH4)/p(O2)</th>\n      <th>p total, bar</th>\n      <th>Contact time, s</th>\n      <th>X(O2), %</th>\n      <th>X(CH4), %</th>\n      <th>S(COx), %</th>\n      <th>S(C2=), %</th>\n      <th>S(C2-), %</th>\n      <th>S(C2), %</th>\n      <th>Y(C2), %</th>\n    </tr>\n  </thead>\n  <tbody>\n    <tr>\n      <th>0</th>\n      <td>1</td>\n      <td>0.0</td>\n      <td>0.908</td>\n      <td>0.0</td>\n      <td>0.0</td>\n      <td>0.0</td>\n      <td>0.0</td>\n      <td>0.0</td>\n      <td>0.0</td>\n      <td>0.0</td>\n      <td>...</td>\n      <td>4.761905</td>\n      <td>1.013</td>\n      <td>0.04</td>\n      <td>NaN</td>\n      <td>11.0</td>\n      <td>NaN</td>\n      <td>NaN</td>\n      <td>NaN</td>\n      <td>45.500000</td>\n      <td>5.0050</td>\n    </tr>\n    <tr>\n      <th>1</th>\n      <td>1</td>\n      <td>0.0</td>\n      <td>0.953</td>\n      <td>0.0</td>\n      <td>0.0</td>\n      <td>0.0</td>\n      <td>0.0</td>\n      <td>0.0</td>\n      <td>0.0</td>\n      <td>0.0</td>\n      <td>...</td>\n      <td>4.761905</td>\n      <td>1.013</td>\n      <td>0.04</td>\n      <td>NaN</td>\n      <td>10.0</td>\n      <td>NaN</td>\n      <td>NaN</td>\n      <td>NaN</td>\n      <td>40.000000</td>\n      <td>4.0000</td>\n    </tr>\n    <tr>\n      <th>2</th>\n      <td>1</td>\n      <td>0.0</td>\n      <td>0.955</td>\n      <td>0.0</td>\n      <td>0.0</td>\n      <td>0.0</td>\n      <td>0.0</td>\n      <td>0.0</td>\n      <td>0.0</td>\n      <td>0.0</td>\n      <td>...</td>\n      <td>4.761905</td>\n      <td>1.013</td>\n      <td>0.04</td>\n      <td>NaN</td>\n      <td>8.4</td>\n      <td>NaN</td>\n      <td>NaN</td>\n      <td>NaN</td>\n      <td>4.800000</td>\n      <td>0.4032</td>\n    </tr>\n    <tr>\n      <th>3</th>\n      <td>1</td>\n      <td>0.0</td>\n      <td>0.896</td>\n      <td>0.0</td>\n      <td>0.0</td>\n      <td>0.0</td>\n      <td>0.0</td>\n      <td>0.0</td>\n      <td>0.0</td>\n      <td>0.0</td>\n      <td>...</td>\n      <td>4.761905</td>\n      <td>1.013</td>\n      <td>0.04</td>\n      <td>NaN</td>\n      <td>6.8</td>\n      <td>NaN</td>\n      <td>NaN</td>\n      <td>NaN</td>\n      <td>44.099998</td>\n      <td>2.9988</td>\n    </tr>\n    <tr>\n      <th>4</th>\n      <td>1</td>\n      <td>0.0</td>\n      <td>0.972</td>\n      <td>0.0</td>\n      <td>0.0</td>\n      <td>0.0</td>\n      <td>0.0</td>\n      <td>0.0</td>\n      <td>0.0</td>\n      <td>0.0</td>\n      <td>...</td>\n      <td>4.761905</td>\n      <td>1.013</td>\n      <td>0.04</td>\n      <td>NaN</td>\n      <td>8.0</td>\n      <td>NaN</td>\n      <td>NaN</td>\n      <td>NaN</td>\n      <td>1.300000</td>\n      <td>0.1040</td>\n    </tr>\n  </tbody>\n</table>\n<p>5 rows × 83 columns</p>\n</div>"
     },
     "execution_count": 18,
     "metadata": {},
     "output_type": "execute_result"
    }
   ],
   "source": [
    "# Make clean dataframe\n",
    "data_cleaned = pd.concat([\n",
    "    raw_data.iloc[:, 1],  # Number of publication\n",
    "    composition,  # Composition\n",
    "    raw_data.iloc[:, 19:]  # Reaction data\n",
    "], axis=1, sort=True)\n",
    "data_cleaned.head()"
   ],
   "metadata": {
    "collapsed": false,
    "ExecuteTime": {
     "end_time": "2024-11-05T17:01:41.379525800Z",
     "start_time": "2024-11-05T17:01:41.359503800Z"
    }
   },
   "id": "b441c8aaf9a68d19",
   "execution_count": 18
  },
  {
   "cell_type": "code",
   "outputs": [],
   "source": [
    "# Save clean data\n",
    "data_cleaned.to_excel('data/clean_data.xlsx')"
   ],
   "metadata": {
    "collapsed": false,
    "ExecuteTime": {
     "end_time": "2024-11-05T17:03:13.554502200Z",
     "start_time": "2024-11-05T17:03:11.573351500Z"
    }
   },
   "id": "50b1eb1727865da",
   "execution_count": 19
  }
 ],
 "metadata": {
  "kernelspec": {
   "display_name": "Python 3",
   "language": "python",
   "name": "python3"
  },
  "language_info": {
   "codemirror_mode": {
    "name": "ipython",
    "version": 2
   },
   "file_extension": ".py",
   "mimetype": "text/x-python",
   "name": "python",
   "nbconvert_exporter": "python",
   "pygments_lexer": "ipython2",
   "version": "2.7.6"
  }
 },
 "nbformat": 4,
 "nbformat_minor": 5
}
